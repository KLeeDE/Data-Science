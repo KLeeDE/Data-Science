{
  "nbformat": 4,
  "nbformat_minor": 0,
  "metadata": {
    "colab": {
      "name": "Kyungmin Kay Lee_dstep20_assignment_02_01/22/2020.ipynb의 사본",
      "provenance": [],
      "collapsed_sections": [],
      "machine_shape": "hm",
      "include_colab_link": true
    },
    "kernelspec": {
      "name": "python3",
      "display_name": "Python 3"
    }
  },
  "cells": [
    {
      "cell_type": "markdown",
      "metadata": {
        "id": "view-in-github",
        "colab_type": "text"
      },
      "source": [
        "<a href=\"https://colab.research.google.com/github/KLeeDE/Data-Science/blob/master/Are%20NYC%20congresspeople%20tweeting%20about%20New%20Yorker's%20concerns%3F.ipynb\" target=\"_parent\"><img src=\"https://colab.research.google.com/assets/colab-badge.svg\" alt=\"Open In Colab\"/></a>"
      ]
    },
    {
      "cell_type": "markdown",
      "metadata": {
        "id": "o3OCGq-gOkQA",
        "colab_type": "text"
      },
      "source": [
        "# DSTEP20 // Assignment #2\n",
        "\n",
        "assigned : **Jan 15, 2020**\n",
        "\n",
        "DUE : **Jan 22, 2020 11:59pm**\n",
        "\n",
        "## Are NYC congresspeople tweeting about New Yorker's concerns?\n",
        "\n",
        "<img src=\"https://www.dailydot.com/wp-content/uploads/2019/01/twitter-on-capitol-hill.jpg\" width=625>\n",
        "\n",
        "---"
      ]
    },
    {
      "cell_type": "markdown",
      "metadata": {
        "id": "QU3OlG2HETSm",
        "colab_type": "text"
      },
      "source": [
        "### OVERVIEW\n",
        "\n",
        "Social media use by congress is [booming](https://fas.org/sgp/crs/misc/R45337.pdf), with members using the platform to directly engage with their constiuents, take part in the national conversation around timely issues, and fundraise for (re)election.  Participation in social media discourse is quickly becoming [mandatory](https://fcw.com/articles/2018/08/08/social-media-congress.aspx) for public servants looking to both compete in the messaging game and solicit feedback from those who are affected by their policies.\n",
        "\n",
        "At the same time, from the social science perspective, social media is frought with participation bias of all sorts and so it is not clear that the conversation on social media platforms tracks with the lived experience of the electorate.  In this assignment, you will be determining whether members of Congress representing New York City are using social media to highlight the common issues that New Yorkers are facing as measured by 311 service requests.\n",
        "\n",
        "<u>**Instructions for tasks that will be graded are in bold below.**</u>"
      ]
    },
    {
      "cell_type": "markdown",
      "metadata": {
        "id": "ZPdymZCuSJQ4",
        "colab_type": "text"
      },
      "source": [
        "### PART 1 - Background\n",
        "\n",
        "<b>\n",
        "Provide a brief (no more than 500 words) descriptive overview of \n",
        "\n",
        "1. the use of social media by public servants and congress in particular, and\n",
        "\n",
        "2. the rise of the 311 service in New York City including the reasons for its implementation, operational methods, and characteristics of the datasets available via NYC's Open Data Portal,\n",
        "\n",
        "that can serve as the background for the results that you derive below.  As you lay out this Background for this assignment, an important characteristic to consider is bias (in a statistical as opposed to cultural sense).  For example:\n",
        "\n",
        "- Who is using social media platforms?\n",
        "- Who is calling into 311 in NYC?\n",
        "- Is the scope of 311 a reasonable tracer of the issues facing citizens?\n",
        "- What is divide between social media personality of a congressperson and their actual legislative agenda?\n",
        "\n",
        "Please include *references* within the description via weblinks (like the \"booming\" link in the Overview in the cell above).\n",
        "</b>"
      ]
    },
    {
      "cell_type": "markdown",
      "metadata": {
        "id": "Eaqj7STdX1tl",
        "colab_type": "text"
      },
      "source": [
        "**1.\tthe use of social media by public servants and congress in particular, and**\n",
        "\n",
        "In the 21 century, the use of Twitter, Facebook and other social medias have been expanded by public servants and congress. The previous research found that Members of Congress such as Senators and almost all Representatives are using social medias, mainly using Twitter, adopted it as tools to complement their office communication strategies and disseminate information by automatically distribute vetted content ([Mergel, 2012](https://www.nomos-elibrary.de/10.5771/1865-4789-2012-3-108/connecting-to-congress-the-use-of-twitter-by-members-of-congress-jahrgang-5-2012-heft-); [Straus & Glassman, 2016](https://pdfs.semanticscholar.org/b20b/8ce45c502baf430c01c6681901a01dd38e0b.pdf)). The use of social media was also expanded by the governments’ aims for urban service provision and citizen-government interactions ([Minkoff, 2016](https://journals.sagepub.com/doi/full/10.1177/1078087415577796?casa_token=MEtBXNcwZFcAAAAA%3Ax-riCGmZ_PSvKSNIIxw-ccGwnqE6F9XRvr96r5rOqpP0-tTJMU4nJ4uXb6WoyGpxoNzCWASOM-2DQw)).  \n",
        "\n",
        "**2.\tthe rise of the 311 service in New York City including the reasons for its implementation, operational methods, and characteristics of the datasets available via NYC's Open Data Portal,**\n",
        "\n",
        "The mission of the 311 service in New York City (NYC) is to provide the public with quick, easy access to all New York City government services and information while offering the best customer service. According to [Minkoff(2016)](https://journals.sagepub.com/doi/full/10.1177/1078087415577796?casa_token=MEtBXNcwZFcAAAAA%3Ax-riCGmZ_PSvKSNIIxw-ccGwnqE6F9XRvr96r5rOqpP0-tTJMU4nJ4uXb6WoyGpxoNzCWASOM-2DQw), the city has implemented and expanded the 311 Program for citizens to contact government and report problems with infrastructure and city services based on urban service provision and citizen-government interactions. The contacts such as phone call and website are used for operational methods. The program includes the NYC’s Open Data Portal which covers datasets of Business, City Government, Education, Environment, and Health. \n",
        "\n",
        "•\t**Who is using social media platforms?**\n",
        "\n",
        "The social media is known to be used by one-in-three people in the world, more than two-thirds of all internet users, and almost all young people in rich countries  [(Ortiz-Ispina, 2019)](https://ourworldindata.org/rise-of-social-media). Therefore, it is plausible to regard the social media platform as an important tools to distribute information and make networking effects. \n",
        "\n",
        "\n",
        "**•\tWho is calling into 311 in NYC?**\n",
        "\n",
        "The 311 in New York City is used by local residents in the city. According to the previous study, it is known that New York City 'residents' report problems by phone call or online submission [(Minkoff, 2016)](https://journals.sagepub.com/doi/full/10.1177/1078087415577796?casa_token=MEtBXNcwZFcAAAAA%3Ax-riCGmZ_PSvKSNIIxw-ccGwnqE6F9XRvr96r5rOqpP0-tTJMU4nJ4uXb6WoyGpxoNzCWASOM-2DQw). In 2018, 20,9 million customer called to 311, 20,4 million visit online,and about 2,5 million people used mobile app, text, chat, and twitter, which was reported to be 44 million customer used 311 program [(NYC, 2019)](https://www1.nyc.gov/311/311-sets-new-record-in-2018.page).\n",
        "\n",
        "\n",
        "**•\tIs the scope of 311 a reasonable tracer of the issues facing citizens?**\n",
        "\n",
        "Yes, the scope of 311 is the reasonable tracer of the issues facing citizens. According to the [311 program website](https://portal.311.nyc.gov/), it covers almost all economic, social, and environmental fields: Benefits & Support, Businesses & Consumers, Courts & Law, Culture & Recreation, Education, Employment, Environment, Garbage & Recycling, Government & Elections, Health, Housing & Buildings, Noise, Pets, Pests & Wildlife, Public Safety, Records, Sidewalks, Streets & Highways, Taxes, and Transportation.\n",
        "\n",
        "\n",
        "**•\tWhat is divide between social media personality of a congressperson and their actual legislative agenda?**\n",
        "It is known that the information about legislative can easily flow from members to constituents, citizens will be capable of drawing policy judgements regarding congressional actions. [Feezell (2018)](https://www.researchgate.net/publication/322081120_Agenda_Setting_through_Social_Media_The_Importance_of_Incidental_News_Exposure_and_Social_Filtering_in_the_Digital_Era) analyzed that exposed to political information through social media such as Facebook yields an agenda setting effect by raising participants’ perceived importance of certain policy issues. Therefore, considering the social media effect, it is important to analyze whether the social media is measured by service requests.  \n",
        "\n",
        "**References:**\n",
        "\n",
        "Esteban Ortiz-Ispina (2019, September 18) The rise of social media. Our World in Data. Retrieved from https://ourworldindata.org/rise-of-social-media\n",
        "\n",
        "Feezell, J. T. (2018). Agenda setting through social media: The importance of incidental news exposure and social filtering in the digital era. Political Research Quarterly, 71(2), 482-494.\n",
        "\n",
        "Mergel, I. (2012). “Connecting to Congress”: The use of Twitter by Members of Congress. ZPB Zeitschrift für Politikberatung, 5(3), 108-114.\n",
        "\n",
        "Minkoff, S. L. (2016). NYC 311: A tract-level analysis of citizen–government contacting in New York City. Urban Affairs Review, 52(2), 211-246.\n",
        "\n",
        "The Official Website of the City of New York (2019, Feburary 19) 311 Sets New Record with 44 Million Customer Interactions in 2018. Retrieved from: https://www1.nyc.gov/311/311-sets-new-record-in-2018.page\n",
        "\n",
        "Straus, J. R., & Glassman, M. E. (2016). Social media in congress: The impact of electronic media on member communications. Congressional Research Service.\n",
        "\n"
      ]
    },
    {
      "cell_type": "markdown",
      "metadata": {
        "id": "UFXc7IKJX40c",
        "colab_type": "text"
      },
      "source": [
        "### PART 2 - Accessing and Analyzing Congressional Tweets\n",
        "\n",
        "You will be working with two datasets for this assignment.  The first is all of the tweets from every member of congress from 2019.  This file can be found in the folder dstep20/data/congress_tweets/congress_tweets_2019.tsv.  The second is the 311 service requests from NYC that we accessed in class and which can be found [here](https://data.cityofnewyork.us/Social-Services/311-Service-Requests-from-2010-to-Present/erm2-nwe9)."
      ]
    },
    {
      "cell_type": "markdown",
      "metadata": {
        "id": "SHfXSUZUW6gT",
        "colab_type": "text"
      },
      "source": [
        "**Load the congressional tweets data from Google Drive into a DataFrame called tweets.$^{\\dagger}$**\n",
        "\n",
        "<small> $^{\\dagger}$ Hint, the data is a tab separated file and the tab character can be represented by the string \"\\t\".  Also, be sure to specify the lineterminator to be the newline character \"\\n\". </small>"
      ]
    },
    {
      "cell_type": "code",
      "metadata": {
        "id": "imfAibAbdNOV",
        "colab_type": "code",
        "outputId": "d5438bc0-ff95-486f-98be-79ee6417ba35",
        "colab": {
          "base_uri": "https://localhost:8080/",
          "height": 35
        }
      },
      "source": [
        "import pandas as pd\n",
        "import numpy as np\n",
        "\n",
        "# link google drive\n",
        "from google.colab import drive\n",
        "drive.mount(\"/content/drive\")"
      ],
      "execution_count": 0,
      "outputs": [
        {
          "output_type": "stream",
          "text": [
            "Drive already mounted at /content/drive; to attempt to forcibly remount, call drive.mount(\"/content/drive\", force_remount=True).\n"
          ],
          "name": "stdout"
        }
      ]
    },
    {
      "cell_type": "code",
      "metadata": {
        "id": "fG76fQNplI6H",
        "colab_type": "code",
        "outputId": "08dd77cf-8b18-40ef-bf6e-9804fd5678ae",
        "colab": {
          "base_uri": "https://localhost:8080/",
          "height": 199
        }
      },
      "source": [
        "fname = \"drive/My Drive/dstep20/data/congress_tweets/congress_tweets_2019.tsv\"\n",
        "\n",
        "twt = pd.read_csv(fname, sep='\\t', lineterminator=\"\\n\")\n",
        "pd.set_option('display.max_columns', 100)\n",
        "print(twt.head())\n",
        "print(\"\")\n",
        "print(twt.dtypes)"
      ],
      "execution_count": 0,
      "outputs": [
        {
          "output_type": "stream",
          "text": [
            "         date                                              tweet\n",
            "0  2019-01-01  RepLipinski:Happy New Year! Wishing everyone a...\n",
            "1  2019-01-01  RosLehtinen:Hurrah @NikkiHaley! I fought every...\n",
            "2  2019-01-01  RepRubenGallego:I’ll be on @MSNBC shortly to d...\n",
            "3  2019-01-01  RepJohnYarmuth:Wishing you all a very happy he...\n",
            "4  2019-01-01  MarkWarner:Wishing everyone around the Commonw...\n",
            "\n",
            "date     object\n",
            "tweet    object\n",
            "dtype: object\n"
          ],
          "name": "stdout"
        }
      ]
    },
    {
      "cell_type": "code",
      "metadata": {
        "id": "4fpAfrj_U5iO",
        "colab_type": "code",
        "outputId": "da8572fa-008f-4142-f6b2-0ec87159ab71",
        "colab": {
          "base_uri": "https://localhost:8080/",
          "height": 74
        }
      },
      "source": [
        "print(twt[\"tweet\"].iloc[0])\n",
        "print(type(twt[\"tweet\"].iloc[0]))"
      ],
      "execution_count": 0,
      "outputs": [
        {
          "output_type": "stream",
          "text": [
            "RepLipinski:Happy New Year! Wishing everyone a healthy and prosperous 2019. I look forward to tackling new issues that arise in #IL03 &amp; having a productive 116th Congress in the Democratic majority. Here’s to success in the year ahead. http//pbs.twimg.com/media/Dv2VjrFWsAIsrG_.jpg\n",
            "<class 'str'>\n"
          ],
          "name": "stdout"
        }
      ]
    },
    {
      "cell_type": "markdown",
      "metadata": {
        "id": "zDsLn-ZLXwhd",
        "colab_type": "text"
      },
      "source": [
        "**Split the tweet column into a screen name and the tweet text, and add those back to the oringinal tweets DataFrame with column names \"screen_name\" and \"text\".**"
      ]
    },
    {
      "cell_type": "code",
      "metadata": {
        "id": "A0hUDs_UY2mK",
        "colab_type": "code",
        "outputId": "38a29f7d-81c7-4617-e979-04a58fe014a5",
        "colab": {
          "base_uri": "https://localhost:8080/",
          "height": 272
        }
      },
      "source": [
        "twt[\"tweet\"] = twt[\"tweet\"].str.split(\":\")\n",
        "print(twt)"
      ],
      "execution_count": 0,
      "outputs": [
        {
          "output_type": "stream",
          "text": [
            "              date                                              tweet\n",
            "0       2019-01-01  [RepLipinski, Happy New Year! Wishing everyone...\n",
            "1       2019-01-01  [RosLehtinen, Hurrah @NikkiHaley! I fought eve...\n",
            "2       2019-01-01  [RepRubenGallego, I’ll be on @MSNBC shortly to...\n",
            "3       2019-01-01  [RepJohnYarmuth, Wishing you all a very happy ...\n",
            "4       2019-01-01  [MarkWarner, Wishing everyone around the Commo...\n",
            "...            ...                                                ...\n",
            "841598  2019-12-31  [MichaelBennet, At the turn of this decade we ...\n",
            "841599  2019-12-31  [AOC, RT @corbintrent I know we can get #South...\n",
            "841600  2019-12-31  [RepFredUpton, Happy New Year! Here’s wishing ...\n",
            "841601  2019-12-31  [MichaelBennet, At the turn of the last decade...\n",
            "841602  2019-12-31  [KenCalvert, Wishing you and your family a ver...\n",
            "\n",
            "[841603 rows x 2 columns]\n"
          ],
          "name": "stdout"
        }
      ]
    },
    {
      "cell_type": "code",
      "metadata": {
        "id": "nzDjKR6gZcAm",
        "colab_type": "code",
        "outputId": "cd492a5b-c03f-4230-8d2a-c61dd3fb1b10",
        "colab": {
          "base_uri": "https://localhost:8080/",
          "height": 55
        }
      },
      "source": [
        "print(twt[\"tweet\"].iloc[0])"
      ],
      "execution_count": 0,
      "outputs": [
        {
          "output_type": "stream",
          "text": [
            "['RepLipinski', 'Happy New Year! Wishing everyone a healthy and prosperous 2019. I look forward to tackling new issues that arise in #IL03 &amp; having a productive 116th Congress in the Democratic majority. Here’s to success in the year ahead. http//pbs.twimg.com/media/Dv2VjrFWsAIsrG_.jpg']\n"
          ],
          "name": "stdout"
        }
      ]
    },
    {
      "cell_type": "code",
      "metadata": {
        "id": "IL8r_xNBdd4v",
        "colab_type": "code",
        "outputId": "4842dc53-e1f7-46ff-d25b-46d76cd8e7f7",
        "colab": {
          "base_uri": "https://localhost:8080/",
          "height": 199
        }
      },
      "source": [
        "ll_list = twt[\"tweet\"].to_list()\n",
        "print(ll_list)"
      ],
      "execution_count": 0,
      "outputs": [
        {
          "output_type": "stream",
          "text": [
            "IOPub data rate exceeded.\n",
            "The notebook server will temporarily stop sending output\n",
            "to the client in order to avoid crashing it.\n",
            "To change this limit, set the config variable\n",
            "`--NotebookApp.iopub_data_rate_limit`.\n",
            "\n",
            "Current values:\n",
            "NotebookApp.iopub_data_rate_limit=1000000.0 (bytes/sec)\n",
            "NotebookApp.rate_limit_window=3.0 (secs)\n",
            "\n"
          ],
          "name": "stderr"
        }
      ]
    },
    {
      "cell_type": "code",
      "metadata": {
        "id": "jIHQdutjWFbR",
        "colab_type": "code",
        "outputId": "7a5ba408-3cc8-41fc-a13c-2503c6fa1d80",
        "colab": {
          "base_uri": "https://localhost:8080/",
          "height": 272
        }
      },
      "source": [
        "column_names = [\"screen_name\", \"text\"]\n",
        "\n",
        "df = pd.DataFrame(twt[\"tweet\"].to_list(), columns = column_names)\n",
        "print(df)"
      ],
      "execution_count": 0,
      "outputs": [
        {
          "output_type": "stream",
          "text": [
            "            screen_name                                               text\n",
            "0           RepLipinski  Happy New Year! Wishing everyone a healthy and...\n",
            "1           RosLehtinen  Hurrah @NikkiHaley! I fought every year to def...\n",
            "2       RepRubenGallego  I’ll be on @MSNBC shortly to discuss to latest...\n",
            "3        RepJohnYarmuth  Wishing you all a very happy healthy and produ...\n",
            "4            MarkWarner  Wishing everyone around the Commonwealth a hap...\n",
            "...                 ...                                                ...\n",
            "841598    MichaelBennet  At the turn of this decade we have a president...\n",
            "841599              AOC  RT @corbintrent I know we can get #SouthDakota...\n",
            "841600     RepFredUpton  Happy New Year! Here’s wishing you &amp; yours...\n",
            "841601    MichaelBennet  At the turn of the last decade we had a presid...\n",
            "841602       KenCalvert  Wishing you and your family a very Happy New Y...\n",
            "\n",
            "[841603 rows x 2 columns]\n"
          ],
          "name": "stdout"
        }
      ]
    },
    {
      "cell_type": "code",
      "metadata": {
        "id": "Jf-B1RGzcCBy",
        "colab_type": "code",
        "outputId": "8f521cee-6e64-4b1a-850b-90ba3f13cc80",
        "colab": {
          "base_uri": "https://localhost:8080/",
          "height": 508
        }
      },
      "source": [
        "twt[\"screen_name\"] = df[\"screen_name\"]\n",
        "twt[\"text\"] = df[\"text\"]\n",
        "print(twt)"
      ],
      "execution_count": 0,
      "outputs": [
        {
          "output_type": "stream",
          "text": [
            "              date                                              tweet  \\\n",
            "0       2019-01-01  RepLipinski:Happy New Year! Wishing everyone a...   \n",
            "1       2019-01-01  RosLehtinen:Hurrah @NikkiHaley! I fought every...   \n",
            "2       2019-01-01  RepRubenGallego:I’ll be on @MSNBC shortly to d...   \n",
            "3       2019-01-01  RepJohnYarmuth:Wishing you all a very happy he...   \n",
            "4       2019-01-01  MarkWarner:Wishing everyone around the Commonw...   \n",
            "...            ...                                                ...   \n",
            "841598  2019-12-31  MichaelBennet:At the turn of this decade we ha...   \n",
            "841599  2019-12-31  AOC:RT @corbintrent I know we can get #SouthDa...   \n",
            "841600  2019-12-31  RepFredUpton:Happy New Year! Here’s wishing yo...   \n",
            "841601  2019-12-31  MichaelBennet:At the turn of the last decade w...   \n",
            "841602  2019-12-31  KenCalvert:Wishing you and your family a very ...   \n",
            "\n",
            "            screen_name                                               text  \n",
            "0           RepLipinski  Happy New Year! Wishing everyone a healthy and...  \n",
            "1           RosLehtinen  Hurrah @NikkiHaley! I fought every year to def...  \n",
            "2       RepRubenGallego  I’ll be on @MSNBC shortly to discuss to latest...  \n",
            "3        RepJohnYarmuth  Wishing you all a very happy healthy and produ...  \n",
            "4            MarkWarner  Wishing everyone around the Commonwealth a hap...  \n",
            "...                 ...                                                ...  \n",
            "841598    MichaelBennet  At the turn of this decade we have a president...  \n",
            "841599              AOC  RT @corbintrent I know we can get #SouthDakota...  \n",
            "841600     RepFredUpton  Happy New Year! Here’s wishing you &amp; yours...  \n",
            "841601    MichaelBennet  At the turn of the last decade we had a presid...  \n",
            "841602       KenCalvert  Wishing you and your family a very Happy New Y...  \n",
            "\n",
            "[841603 rows x 4 columns]\n"
          ],
          "name": "stdout"
        }
      ]
    },
    {
      "cell_type": "markdown",
      "metadata": {
        "id": "2zuNgDgmYqeK",
        "colab_type": "text"
      },
      "source": [
        "The screen names for only congresspeople representing the citizens of NYC can be found in the file dstep20/data/congress_tweets/nyc_congress_screen_names.csv.\n",
        "\n",
        "**Sub-select only those tweets coming from congresspeople representing NYC using the list of screen names from the congress_screen_names.csv file and the .isin method of the tweets DataFrame.  Call this new DataFrame (consisting only of tweets for NYC) nyc_tw.**"
      ]
    },
    {
      "cell_type": "code",
      "metadata": {
        "id": "FfMifUbCYq2w",
        "colab_type": "code",
        "outputId": "69c20f54-ad79-41b6-c9f4-c7205c6af594",
        "colab": {
          "base_uri": "https://localhost:8080/",
          "height": 672
        }
      },
      "source": [
        "drive.mount(\"/content/drive\")\n",
        "fname2 = \"drive/My Drive/dstep20/data/congress_tweets/nyc_congress_screen_names.csv\"\n",
        "\n",
        "cgr = pd.read_csv(fname2, sep=\",\")\n",
        "print(cgr)"
      ],
      "execution_count": 0,
      "outputs": [
        {
          "output_type": "stream",
          "text": [
            "Drive already mounted at /content/drive; to attempt to forcibly remount, call drive.mount(\"/content/drive\", force_remount=True).\n",
            "        screen_name                      name party\n",
            "0        SenSchumer             Chuck Schumer     D\n",
            "1      chuckschumer             Chuck Schumer     D\n",
            "2     SenGillibrand        Kirsten Gillibrand     D\n",
            "3      gillibrandny        Kirsten Gillibrand     D\n",
            "4      RepLeeZeldin                Lee Zeldin     R\n",
            "5         leezeldin                Lee Zeldin     R\n",
            "6       RepPeteKing                Peter King     R\n",
            "7      congpeteking                Peter King     R\n",
            "8       petekingcpg                Peter King     R\n",
            "9      RepTomSuozzi             Thomas Suozzi     D\n",
            "10       Tom_Suozzi             Thomas Suozzi     D\n",
            "11     KathleenRice             Kathleen Rice     D\n",
            "12  RepKathleenRice             Kathleen Rice     D\n",
            "13  RepGregoryMeeks             Gregory Meeks     D\n",
            "14     RepGraceMeng                Grace Meng     D\n",
            "15         Grace4NY                Grace Meng     D\n",
            "16   NydiaVelazquez           Nydia Velazquez     D\n",
            "17     ReElectNydia           Nydia Velazquez     D\n",
            "18      RepJeffries           Hakeem Jeffries     D\n",
            "19     TeamJeffries           Hakeem Jeffries     D\n",
            "20  RepYvetteClarke             Yvette Clarke     D\n",
            "21       VoteYvette             Yvette Clarke     D\n",
            "22      JerryNadler            Jerrold Nadler     D\n",
            "23   RepJerryNadler            Jerrold Nadler     D\n",
            "24       MaxRose4NY                  Max Rose     D\n",
            "25       RepMaxRose                  Max Rose     D\n",
            "26  CarolynBMaloney           Carolyn Maloney     D\n",
            "27       RepMaloney           Carolyn Maloney     D\n",
            "28     RepEspaillat         Adriano Espaillat     D\n",
            "29              AOC  Alexandria Ocasio-Cortez     D\n",
            "30           RepAOC  Alexandria Ocasio-Cortez     D\n",
            "31   RepJoseSerrano              Jose Serrano     D\n",
            "32  serranocongress              Jose Serrano     D\n",
            "33    RepEliotEngel               Eliot Engel     D\n"
          ],
          "name": "stdout"
        }
      ]
    },
    {
      "cell_type": "code",
      "metadata": {
        "id": "o4L5-bsnmAgT",
        "colab_type": "code",
        "outputId": "cf824331-f1b5-45c1-a2ef-b10fa9a07443",
        "colab": {
          "base_uri": "https://localhost:8080/",
          "height": 508
        }
      },
      "source": [
        "ind = twt[\"screen_name\"].isin(cgr[\"screen_name\"])\n",
        "nyc_tw = twt[ind]\n",
        "print(nyc_tw)"
      ],
      "execution_count": 0,
      "outputs": [
        {
          "output_type": "stream",
          "text": [
            "              date                                              tweet  \\\n",
            "35      2019-01-01  Grace4NY:My kids wrote a note to all the new #...   \n",
            "51      2019-01-01  RepTomSuozzi:The Northport VA should be a mode...   \n",
            "66      2019-01-01  RepEspaillat:You are cordially invited to join...   \n",
            "129     2019-01-01  RepGregoryMeeks:Wishing everyone a happy new y...   \n",
            "168     2019-01-01  RepYvetteClarke:The beginning of a new year sy...   \n",
            "...            ...                                                ...   \n",
            "841558  2019-12-31  CarolynBMaloney:We're so close to meeting our ...   \n",
            "841560  2019-12-31  CarolynBMaloney:And here's 6-10 (...and someth...   \n",
            "841562  2019-12-31  CarolynBMaloney:A lot happened in 2019 - here ...   \n",
            "841592  2019-12-31  Grace4NY:@kulkarni_nina @TheDemocrats @TomPere...   \n",
            "841599  2019-12-31  AOC:RT @corbintrent I know we can get #SouthDa...   \n",
            "\n",
            "            screen_name                                               text  \n",
            "35             Grace4NY  My kids wrote a note to all the new #Congressk...  \n",
            "51         RepTomSuozzi  The Northport VA should be a model for our cou...  \n",
            "66         RepEspaillat  You are cordially invited to join us for the S...  \n",
            "129     RepGregoryMeeks  Wishing everyone a happy new year! http//pbs.t...  \n",
            "168     RepYvetteClarke  The beginning of a new year symbolizes hope an...  \n",
            "...                 ...                                                ...  \n",
            "841558  CarolynBMaloney  We're so close to meeting our goal for the yea...  \n",
            "841560  CarolynBMaloney  And here's 6-10 (...and something I almost for...  \n",
            "841562  CarolynBMaloney  A lot happened in 2019 - here are the 10 thing...  \n",
            "841592         Grace4NY  @kulkarni_nina @TheDemocrats @TomPerez You pla...  \n",
            "841599              AOC  RT @corbintrent I know we can get #SouthDakota...  \n",
            "\n",
            "[31731 rows x 4 columns]\n"
          ],
          "name": "stdout"
        }
      ]
    },
    {
      "cell_type": "markdown",
      "metadata": {
        "id": "6iNVaovoZc4y",
        "colab_type": "text"
      },
      "source": [
        "**What is the total fraction of all congresspeople's tweets that are sent by congresspeople representing NYC?**"
      ]
    },
    {
      "cell_type": "code",
      "metadata": {
        "id": "_Z5UO6Dem0SO",
        "colab_type": "code",
        "outputId": "513d31a3-6d92-41b0-e7b6-07bbfeba5edd",
        "colab": {
          "base_uri": "https://localhost:8080/",
          "height": 35
        }
      },
      "source": [
        "All = len(twt[\"screen_name\"])\n",
        "print(All)"
      ],
      "execution_count": 0,
      "outputs": [
        {
          "output_type": "stream",
          "text": [
            "841603\n"
          ],
          "name": "stdout"
        }
      ]
    },
    {
      "cell_type": "code",
      "metadata": {
        "id": "ukKzaGikm3Kh",
        "colab_type": "code",
        "outputId": "e4d2772d-6079-4e84-9681-4acac5f09f11",
        "colab": {
          "base_uri": "https://localhost:8080/",
          "height": 35
        }
      },
      "source": [
        "NYC = len(nyc_tw[\"screen_name\"])\n",
        "print(NYC)"
      ],
      "execution_count": 0,
      "outputs": [
        {
          "output_type": "stream",
          "text": [
            "31731\n"
          ],
          "name": "stdout"
        }
      ]
    },
    {
      "cell_type": "code",
      "metadata": {
        "id": "ZHdveVHbnHiE",
        "colab_type": "code",
        "outputId": "da7f2d32-673d-4edf-b75f-da9ee2dd4075",
        "colab": {
          "base_uri": "https://localhost:8080/",
          "height": 35
        }
      },
      "source": [
        "print(\"The total fraction of all congresspeople's tweets that are sent by congresspeople representing NYC: {0}\". format(NYC/All))"
      ],
      "execution_count": 0,
      "outputs": [
        {
          "output_type": "stream",
          "text": [
            "The total fraction of all congresspeople's tweets that are sent by congresspeople representing NYC: 0.037703050012892064\n"
          ],
          "name": "stdout"
        }
      ]
    },
    {
      "cell_type": "markdown",
      "metadata": {
        "id": "emCg840WZkwa",
        "colab_type": "text"
      },
      "source": [
        "**How does that fraction compare to the fraction of the US population that are New Yorkers?**"
      ]
    },
    {
      "cell_type": "markdown",
      "metadata": {
        "id": "Qrj5Fjexj1wt",
        "colab_type": "text"
      },
      "source": [
        "I regarded the New Yorkers as residents in City of New York, not State of New York, in this problem set. \n",
        "\n",
        "Estimate Population (2017)\n",
        "\n",
        "City of New York: 8,622,698\n",
        "\n",
        "State of New York: 19,849,399\n",
        "\n",
        "U.S. : 325,919,160\n",
        "\n",
        "Source:\n",
        "\n",
        "[Demographics of New York City](https://en.wikipedia.org/wiki/Demographics_of_New_York_City#cite_note-14).  \n",
        "\n",
        "[US Census](https://www.census.gov/popclock/). "
      ]
    },
    {
      "cell_type": "code",
      "metadata": {
        "id": "kVsx0BkKnkLh",
        "colab_type": "code",
        "outputId": "a7731955-4407-4d53-d2f2-99c6abebbe45",
        "colab": {
          "base_uri": "https://localhost:8080/",
          "height": 35
        }
      },
      "source": [
        "print(\"The fraction of the US population that are New Yorkers: {0}\". format(8622698/325919160))"
      ],
      "execution_count": 0,
      "outputs": [
        {
          "output_type": "stream",
          "text": [
            "The fraction of the US population that are New Yorkers: 0.026456554441291514\n"
          ],
          "name": "stdout"
        }
      ]
    },
    {
      "cell_type": "code",
      "metadata": {
        "id": "dYrtwF9Noyle",
        "colab_type": "code",
        "outputId": "76f7b520-fe11-4d62-8297-bab4fd73bedd",
        "colab": {
          "base_uri": "https://localhost:8080/",
          "height": 35
        }
      },
      "source": [
        "print(\"The fraction compare to the fraction above: {0}\". format(0.037703050012892064/0.026456554441291514))"
      ],
      "execution_count": 0,
      "outputs": [
        {
          "output_type": "stream",
          "text": [
            "The fraction compare to the fraction above: 1.425092980136817\n"
          ],
          "name": "stdout"
        }
      ]
    },
    {
      "cell_type": "markdown",
      "metadata": {
        "id": "3L2uAK3UpFgm",
        "colab_type": "text"
      },
      "source": [
        "**Answer:** The total fraction of all congrespeople's tweets that are sent by congresspeople reprensenting NYC (0.038) is 1.4 times greater than the fraction of the US population that are New Yorkers (0.026)."
      ]
    },
    {
      "cell_type": "markdown",
      "metadata": {
        "id": "xzK5wpIqZvad",
        "colab_type": "text"
      },
      "source": [
        "**Make a bar plot (<u>including a descriptive caption</u>) of the total number of tweets for each screen name in nyc_tw in descending order.**"
      ]
    },
    {
      "cell_type": "code",
      "metadata": {
        "id": "4n8luh_JZvlE",
        "colab_type": "code",
        "outputId": "b8a7d165-8b1a-4a20-d5c2-9cd8d3299c05",
        "colab": {
          "base_uri": "https://localhost:8080/",
          "height": 672
        }
      },
      "source": [
        "twt2 = nyc_tw.groupby(\"screen_name\").count()\n",
        "print(twt2)"
      ],
      "execution_count": 0,
      "outputs": [
        {
          "output_type": "stream",
          "text": [
            "                 date  tweet  text\n",
            "screen_name                       \n",
            "AOC              3232   3232  3232\n",
            "CarolynBMaloney  2363   2363  2363\n",
            "Grace4NY         1875   1875  1875\n",
            "JerryNadler        60     60    60\n",
            "KathleenRice       17     17    17\n",
            "MaxRose4NY        789    789   789\n",
            "NydiaVelazquez   2372   2372  2372\n",
            "ReElectNydia     1397   1397  1397\n",
            "RepAOC             81     81    81\n",
            "RepEliotEngel    1088   1088  1088\n",
            "RepEspaillat     2533   2533  2533\n",
            "RepGraceMeng      623    623   623\n",
            "RepGregoryMeeks  1325   1325  1325\n",
            "RepJeffries       559    559   559\n",
            "RepJerryNadler    932    932   932\n",
            "RepJoseSerrano    413    413   413\n",
            "RepKathleenRice   767    767   767\n",
            "RepLeeZeldin     1036   1036  1036\n",
            "RepMaloney       2764   2764  2764\n",
            "RepMaxRose        822    822   822\n",
            "RepPeteKing       358    358   358\n",
            "RepTomSuozzi      397    397   397\n",
            "RepYvetteClarke   917    917   917\n",
            "SenGillibrand    1994   1994  1994\n",
            "SenSchumer       2025   2025  2025\n",
            "TeamJeffries       10     10    10\n",
            "Tom_Suozzi         23     23    23\n",
            "VoteYvette          1      1     1\n",
            "chuckschumer        5      5     5\n",
            "congpeteking        5      5     5\n",
            "gillibrandny      531    531   531\n",
            "leezeldin         406    406   406\n",
            "petekingcpg         4      4     4\n",
            "serranocongress     7      7     7\n"
          ],
          "name": "stdout"
        }
      ]
    },
    {
      "cell_type": "code",
      "metadata": {
        "id": "9u3-hubvqHiz",
        "colab_type": "code",
        "outputId": "61aa4cec-6953-404a-e995-eb41d8c0c937",
        "colab": {
          "base_uri": "https://localhost:8080/",
          "height": 395
        }
      },
      "source": [
        "ax = twt2.sort_values('tweet', ascending=False).reset_index().plot.bar(\"screen_name\", \"tweet\")\n",
        "xlab = ax.set_xlabel(\"Screen Name\")\n",
        "ylab = ax.set_ylabel(\"Total Number of Tweets\")\n",
        "ax.set_title(\"The total number of tweets for each screen name in NYC\", loc=\"center\")"
      ],
      "execution_count": 0,
      "outputs": [
        {
          "output_type": "execute_result",
          "data": {
            "text/plain": [
              "Text(0.5, 1.0, 'The total number of tweets for each screen name in NYC')"
            ]
          },
          "metadata": {
            "tags": []
          },
          "execution_count": 78
        },
        {
          "output_type": "display_data",
          "data": {
            "image/png": "[encoded data removed]",
            "text/plain": [
              "<Figure size 432x288 with 1 Axes>"
            ]
          },
          "metadata": {
            "tags": []
          }
        }
      ]
    },
    {
      "cell_type": "markdown",
      "metadata": {
        "id": "X2Vtl7tCaGrn",
        "colab_type": "text"
      },
      "source": [
        "Before we compare the content of the tweets with 311 Service Requests, let's practice by searching the NYC tweets for certain topical words/phrases that are current.\n",
        "\n",
        "**What is the fraction of NYC tweets that contain the word \"gun\" or \"guns\"?**"
      ]
    },
    {
      "cell_type": "code",
      "metadata": {
        "id": "m7Uc-SMraG06",
        "colab_type": "code",
        "outputId": "572eb099-fcdd-448f-f7cf-6d8d3abd8682",
        "colab": {
          "base_uri": "https://localhost:8080/",
          "height": 235
        }
      },
      "source": [
        "print(nyc_tw[\"text\"].str.contains(\"gun\", \"guns\"))"
      ],
      "execution_count": 0,
      "outputs": [
        {
          "output_type": "stream",
          "text": [
            "35        False\n",
            "51        False\n",
            "66        False\n",
            "129       False\n",
            "168       False\n",
            "          ...  \n",
            "841558    False\n",
            "841560    False\n",
            "841562    False\n",
            "841592    False\n",
            "841599    False\n",
            "Name: text, Length: 31731, dtype: bool\n"
          ],
          "name": "stdout"
        }
      ]
    },
    {
      "cell_type": "code",
      "metadata": {
        "id": "EJRmX8Kio1i3",
        "colab_type": "code",
        "outputId": "4d84b72d-4342-487d-8317-5b2958144de8",
        "colab": {
          "base_uri": "https://localhost:8080/",
          "height": 35
        }
      },
      "source": [
        "ngun = nyc_tw[\"text\"].str.contains(\"gun\", \"guns\").sum()\n",
        "nall = len(nyc_tw[\"text\"])\n",
        "print(\"The fraction of NYC tweets that contain the word 'gun' or 'guns': {0}\".format(ngun/nall))"
      ],
      "execution_count": 0,
      "outputs": [
        {
          "output_type": "stream",
          "text": [
            "The fraction of NYC tweets that contain the word 'gun' or 'guns': 0.030159780656140684\n"
          ],
          "name": "stdout"
        }
      ]
    },
    {
      "cell_type": "markdown",
      "metadata": {
        "id": "P5mPEJR1bDrU",
        "colab_type": "text"
      },
      "source": [
        "**What fraction of the NYC tweets contain the phrase \"medicare for all\"?**"
      ]
    },
    {
      "cell_type": "code",
      "metadata": {
        "id": "vWweopcQbD0M",
        "colab_type": "code",
        "outputId": "a50c6202-5f8c-44ee-9ad5-4fd131ac6ac3",
        "colab": {
          "base_uri": "https://localhost:8080/",
          "height": 235
        }
      },
      "source": [
        "print(nyc_tw[\"text\"].str.contains(\"medicare for all\"))"
      ],
      "execution_count": 0,
      "outputs": [
        {
          "output_type": "stream",
          "text": [
            "35        False\n",
            "51        False\n",
            "66        False\n",
            "129       False\n",
            "168       False\n",
            "          ...  \n",
            "841558    False\n",
            "841560    False\n",
            "841562    False\n",
            "841592    False\n",
            "841599    False\n",
            "Name: text, Length: 31731, dtype: bool\n"
          ],
          "name": "stdout"
        }
      ]
    },
    {
      "cell_type": "code",
      "metadata": {
        "id": "27Nn-KQHp56N",
        "colab_type": "code",
        "outputId": "8da051b1-a5d6-42c8-8756-744689f2370e",
        "colab": {
          "base_uri": "https://localhost:8080/",
          "height": 35
        }
      },
      "source": [
        "nmed = nyc_tw[\"text\"].str.contains(\"medicare for all\").sum()\n",
        "nall = len(nyc_tw[\"text\"])\n",
        "print(\"The fraction of the NYC tweets contain the phrase 'medicare care for all': {0}\".format(nmed/nall))"
      ],
      "execution_count": 0,
      "outputs": [
        {
          "output_type": "stream",
          "text": [
            "The fraction of the NYC tweets contain the phrase 'medicare care for all': 0.0\n"
          ],
          "name": "stdout"
        }
      ]
    },
    {
      "cell_type": "markdown",
      "metadata": {
        "id": "DzwxbosPbPBO",
        "colab_type": "text"
      },
      "source": [
        "**What fraction of the NYC tweets tag the President of the US's official twitter account?**"
      ]
    },
    {
      "cell_type": "code",
      "metadata": {
        "id": "b9EADX8jbPKG",
        "colab_type": "code",
        "outputId": "ee3961b0-5b1a-49cd-9aa1-35e9e1bc5683",
        "colab": {
          "base_uri": "https://localhost:8080/",
          "height": 235
        }
      },
      "source": [
        "print(nyc_tw[\"text\"].str.contains(\"@POTUS\", \"@realDonaldTrump\"))"
      ],
      "execution_count": 0,
      "outputs": [
        {
          "output_type": "stream",
          "text": [
            "35        False\n",
            "51        False\n",
            "66        False\n",
            "129       False\n",
            "168       False\n",
            "          ...  \n",
            "841558    False\n",
            "841560    False\n",
            "841562    False\n",
            "841592    False\n",
            "841599    False\n",
            "Name: text, Length: 31731, dtype: bool\n"
          ],
          "name": "stdout"
        }
      ]
    },
    {
      "cell_type": "code",
      "metadata": {
        "id": "KyW_dl6yqs4Z",
        "colab_type": "code",
        "outputId": "159d1a8f-2a8d-45e7-9747-b3cd600bd0d2",
        "colab": {
          "base_uri": "https://localhost:8080/",
          "height": 35
        }
      },
      "source": [
        "ntrump = nyc_tw[\"text\"].str.contains(\"@POTUS\", \"@realDonaldTrump\").sum()\n",
        "nall = len(nyc_tw[\"text\"])\n",
        "print(\"The fraction of the NYC tweets tag the President of the US's official twitter account: {0}\".format(ntrump/nall))"
      ],
      "execution_count": 0,
      "outputs": [
        {
          "output_type": "stream",
          "text": [
            "The fraction of the NYC tweets tag the President of the US's official twitter account: 0.003025432542308783\n"
          ],
          "name": "stdout"
        }
      ]
    },
    {
      "cell_type": "markdown",
      "metadata": {
        "id": "HPnCBOVvbqCO",
        "colab_type": "text"
      },
      "source": [
        "### PART 3 - Accessing 311 Service Request Data\n"
      ]
    },
    {
      "cell_type": "markdown",
      "metadata": {
        "id": "4AVtw1pbbyqu",
        "colab_type": "text"
      },
      "source": [
        "<b>Use the sodapy module to load the 311 service requests for NYC from Jan 1st, 2019 to Jan 1st 2020 into a DataFrame.  The solution should include: \n",
        "\n",
        "- use pip to install sodapy\n",
        "\n",
        "- set the query return limit to 10000000 (to make sure you get them all)\n",
        "\n",
        "- set the query to return only the unique_key, created_date, and complaint_type columns\n",
        "\n",
        "- set an appropriate connection timeout\n",
        "\n",
        "- name the DataFrame nyc_311\n",
        "\n",
        "</b>"
      ]
    },
    {
      "cell_type": "code",
      "metadata": {
        "id": "uRcactCMaG_l",
        "colab_type": "code",
        "outputId": "827ba30d-1326-4785-965d-983a06c781ea",
        "colab": {
          "base_uri": "https://localhost:8080/",
          "height": 126
        }
      },
      "source": [
        "# use pip to install sodapy\n",
        "!pip install sodapy\n",
        "\n",
        "import numpy as np\n",
        "import pandas as pd\n",
        "import sodapy"
      ],
      "execution_count": 0,
      "outputs": [
        {
          "output_type": "stream",
          "text": [
            "Requirement already satisfied: sodapy in /usr/local/lib/python3.6/dist-packages (2.0.0)\n",
            "Requirement already satisfied: requests>=2.20.0 in /usr/local/lib/python3.6/dist-packages (from sodapy) (2.21.0)\n",
            "Requirement already satisfied: idna<2.9,>=2.5 in /usr/local/lib/python3.6/dist-packages (from requests>=2.20.0->sodapy) (2.8)\n",
            "Requirement already satisfied: certifi>=2017.4.17 in /usr/local/lib/python3.6/dist-packages (from requests>=2.20.0->sodapy) (2019.11.28)\n",
            "Requirement already satisfied: urllib3<1.25,>=1.21.1 in /usr/local/lib/python3.6/dist-packages (from requests>=2.20.0->sodapy) (1.24.3)\n",
            "Requirement already satisfied: chardet<3.1.0,>=3.0.2 in /usr/local/lib/python3.6/dist-packages (from requests>=2.20.0->sodapy) (3.0.4)\n"
          ],
          "name": "stdout"
        }
      ]
    },
    {
      "cell_type": "code",
      "metadata": {
        "id": "BY2KJTSLyEyt",
        "colab_type": "code",
        "outputId": "b081485b-2f90-4464-fe41-2734443b2e31",
        "colab": {
          "base_uri": "https://localhost:8080/",
          "height": 417
        }
      },
      "source": [
        "dom = \"data.cityofnewyork.us\"\n",
        "dsid = \"erm2-nwe9\"\n",
        "# set the query return to 10000000 \n",
        "lim = 10000000 \n",
        "client = sodapy.Socrata(dom, None, timeout=120)\n",
        "result = client.get(dsid, limit=lim, select=\"unique_key,created_date,complaint_type\") \n",
        "data = pd.DataFrame.from_records(result)\n",
        "print(data)\n",
        "print(\"\")\n",
        "print(data.columns)\n",
        "print(\"\")\n",
        "print(data.isna().sum(axis=0))"
      ],
      "execution_count": 0,
      "outputs": [
        {
          "output_type": "stream",
          "text": [
            "WARNING:root:Requests made without an app_token will be subject to strict throttling limits.\n"
          ],
          "name": "stderr"
        },
        {
          "output_type": "stream",
          "text": [
            "        unique_key             created_date   complaint_type\n",
            "0         15968762  2010-02-09T00:00:00.000          HEATING\n",
            "1         15968763  2010-02-09T00:00:00.000          HEATING\n",
            "2         15968764  2010-02-09T00:00:00.000          HEATING\n",
            "3         15968765  2010-02-09T00:00:00.000          HEATING\n",
            "4         15968766  2010-02-09T00:00:00.000          HEATING\n",
            "...            ...                      ...              ...\n",
            "9999995   37138603  2017-09-07T10:04:14.000  FLOORING/STAIRS\n",
            "9999996   37138604  2017-09-08T18:05:51.000  FLOORING/STAIRS\n",
            "9999997   37138605  2017-09-08T09:25:57.000  FLOORING/STAIRS\n",
            "9999998   37138606  2017-09-08T21:00:32.000         ELECTRIC\n",
            "9999999   37138607  2017-09-07T12:45:59.000         ELECTRIC\n",
            "\n",
            "[10000000 rows x 3 columns]\n",
            "\n",
            "Index(['unique_key', 'created_date', 'complaint_type'], dtype='object')\n",
            "\n",
            "unique_key        0\n",
            "created_date      0\n",
            "complaint_type    0\n",
            "dtype: int64\n"
          ],
          "name": "stdout"
        }
      ]
    },
    {
      "cell_type": "code",
      "metadata": {
        "id": "Pkl3pR0yO-CY",
        "colab_type": "code",
        "outputId": "79bb0838-8767-4748-f4ab-21e2ce95a440",
        "colab": {
          "base_uri": "https://localhost:8080/",
          "height": 272
        }
      },
      "source": [
        "# set the query to return only the unique_key, created_date, and complaint_type columns\n",
        "# set an appropriate connection timeout\n",
        "result_sel = client.get(dsid, limit=lim, select=\"unique_key, created_date, complaint_type\", where=\"agency='NYPD'and created_date between '2019-01-01T00:00:00' and '2020-01-01T00:00:00.000'\")\n",
        "# name the DataFrame nyc_311\n",
        "nyc_311 = pd.DataFrame.from_records(result_sel)\n",
        "print(nyc_311)"
      ],
      "execution_count": 0,
      "outputs": [
        {
          "output_type": "stream",
          "text": [
            "       unique_key             created_date               complaint_type\n",
            "0        44164461  2019-10-28T18:33:32.000                  Panhandling\n",
            "1        44164518  2019-10-28T11:54:05.000             Blocked Driveway\n",
            "2        44164520  2019-10-28T23:25:16.000             Blocked Driveway\n",
            "3        44164521  2019-10-28T18:47:35.000             Blocked Driveway\n",
            "4        44164522  2019-10-28T17:03:50.000             Blocked Driveway\n",
            "...           ...                      ...                          ...\n",
            "841087   44172066  2019-10-28T08:00:30.000  Non-Emergency Police Matter\n",
            "841088   44173151  2019-10-28T15:23:23.000          Noise - Residential\n",
            "841089   44172994  2019-10-28T14:25:22.000              Illegal Parking\n",
            "841090   44172735  2019-10-28T13:58:39.000            Abandoned Vehicle\n",
            "841091   44172089  2019-10-28T21:16:11.000          Noise - Residential\n",
            "\n",
            "[841092 rows x 3 columns]\n"
          ],
          "name": "stdout"
        }
      ]
    },
    {
      "cell_type": "markdown",
      "metadata": {
        "id": "MPPH81Y6ljt2",
        "colab_type": "text"
      },
      "source": [
        "**How many NaN's are there in each column?**"
      ]
    },
    {
      "cell_type": "code",
      "metadata": {
        "id": "YJqa7u0zS51y",
        "colab_type": "code",
        "outputId": "ce8d7c0e-c849-4a60-a503-915a752c28c4",
        "colab": {
          "base_uri": "https://localhost:8080/",
          "height": 35
        }
      },
      "source": [
        "nNaN1 = nyc_311[\"unique_key\"].str.contains(\"NaN\").sum()\n",
        "nNaN2 = nyc_311[\"created_date\"].str.contains(\"NaN\").sum()\n",
        "nNaN3 = nyc_311[\"complaint_type\"].str.contains(\"NaN\").sum()\n",
        "\n",
        "print(\"The total number of NaN in each column: {0}\".format(nNaN1+nNaN2+nNaN3))"
      ],
      "execution_count": 0,
      "outputs": [
        {
          "output_type": "stream",
          "text": [
            "The total number of NaN in each column: 0\n"
          ],
          "name": "stdout"
        }
      ]
    },
    {
      "cell_type": "markdown",
      "metadata": {
        "id": "mBY-4D_tl_sS",
        "colab_type": "text"
      },
      "source": [
        "**What are the unique values of complaint type?**"
      ]
    },
    {
      "cell_type": "code",
      "metadata": {
        "id": "KVM1Vk7fmQP2",
        "colab_type": "code",
        "outputId": "ecd84137-a2fc-486d-917a-a8d5bcb5d6f9",
        "colab": {
          "base_uri": "https://localhost:8080/",
          "height": 163
        }
      },
      "source": [
        "cmplnt = np.unique(nyc_311[\"complaint_type\"])\n",
        "print(cmplnt)"
      ],
      "execution_count": 0,
      "outputs": [
        {
          "output_type": "stream",
          "text": [
            "['Abandoned Vehicle' 'Animal Abuse' 'Animal-Abuse'\n",
            " 'Bike/Roller/Skate Chronic' 'Blocked Driveway' 'Derelict Vehicle'\n",
            " 'Disorderly Youth' 'Drinking' 'Drug Activity' 'Graffiti'\n",
            " 'Homeless Encampment' 'Illegal Fireworks' 'Illegal Parking'\n",
            " 'Noise - Commercial' 'Noise - House of Worship' 'Noise - Park'\n",
            " 'Noise - Residential' 'Noise - Street/Sidewalk' 'Noise - Vehicle'\n",
            " 'Non-Emergency Police Matter' 'Panhandling' 'Posting Advertisement'\n",
            " 'Squeegee' 'Traffic' 'Urinating in Public' 'Vending']\n"
          ],
          "name": "stdout"
        }
      ]
    },
    {
      "cell_type": "markdown",
      "metadata": {
        "id": "I2UKdSj-mQio",
        "colab_type": "text"
      },
      "source": [
        "**Make a bar plot (<u>including a descriptive caption</u>) of the top 10 most common complaint types in the 2019 NYC 311 data in descending order left to right.**"
      ]
    },
    {
      "cell_type": "code",
      "metadata": {
        "id": "JYX7Qc0yRp_A",
        "colab_type": "code",
        "outputId": "4ecf9e08-2ad3-4568-8e2a-f1a8872d9851",
        "colab": {
          "base_uri": "https://localhost:8080/",
          "height": 526
        }
      },
      "source": [
        "nyc_311_2 = nyc_311.groupby(\"complaint_type\").count()\n",
        "print(nyc_311_2)"
      ],
      "execution_count": 0,
      "outputs": [
        {
          "output_type": "stream",
          "text": [
            "                             unique_key  created_date\n",
            "complaint_type                                       \n",
            "Abandoned Vehicle                 24184         24184\n",
            "Animal Abuse                       3721          3721\n",
            "Animal-Abuse                       4207          4207\n",
            "Bike/Roller/Skate Chronic           679           679\n",
            "Blocked Driveway                 137738        137738\n",
            "Derelict Vehicle                  17777         17777\n",
            "Disorderly Youth                     96            96\n",
            "Drinking                           1677          1677\n",
            "Drug Activity                      2580          2580\n",
            "Graffiti                            528           528\n",
            "Homeless Encampment                7080          7080\n",
            "Illegal Fireworks                   915           915\n",
            "Illegal Parking                  198360        198360\n",
            "Noise - Commercial                40492         40492\n",
            "Noise - House of Worship            757           757\n",
            "Noise - Park                       4157          4157\n",
            "Noise - Residential              232859        232859\n",
            "Noise - Street/Sidewalk           97921         97921\n",
            "Noise - Vehicle                   43078         43078\n",
            "Non-Emergency Police Matter       10090         10090\n",
            "Panhandling                        1933          1933\n",
            "Posting Advertisement               110           110\n",
            "Squeegee                              8             8\n",
            "Traffic                            4669          4669\n",
            "Urinating in Public                 609           609\n",
            "Vending                            4867          4867\n"
          ],
          "name": "stdout"
        }
      ]
    },
    {
      "cell_type": "code",
      "metadata": {
        "id": "vLtoZdAdl_0y",
        "colab_type": "code",
        "outputId": "ab9f5f3e-1cf8-4c01-8da1-89c11ca1f347",
        "colab": {
          "base_uri": "https://localhost:8080/",
          "height": 452
        }
      },
      "source": [
        "ax = nyc_311[\"complaint_type\"].value_counts().iloc[0:10].plot(kind = 'bar')\n",
        "xlab = ax.set_xlabel(\"Complaint Types\")\n",
        "ylab = ax.set_ylabel(\"Total Number\")\n",
        "ax.set_title(\"The top 10 most common complaint types in the 2019 NYC 311 data\", loc=\"center\")"
      ],
      "execution_count": 0,
      "outputs": [
        {
          "output_type": "execute_result",
          "data": {
            "text/plain": [
              "Text(0.5, 1.0, 'The top 10 most common complaint types in the 2019 NYC 311 data')"
            ]
          },
          "metadata": {
            "tags": []
          },
          "execution_count": 88
        },
        {
          "output_type": "display_data",
          "data": {
            "image/png": "[encoded data removed]",
            "text/plain": [
              "<Figure size 432x288 with 1 Axes>"
            ]
          },
          "metadata": {
            "tags": []
          }
        }
      ]
    },
    {
      "cell_type": "markdown",
      "metadata": {
        "id": "J8jkA3nHnCVM",
        "colab_type": "text"
      },
      "source": [
        "### PART 4 - Combining Congressional Tweets and 311 Service Request Analyses\n",
        "\n"
      ]
    },
    {
      "cell_type": "markdown",
      "metadata": {
        "id": "1WBITDeIvQoL",
        "colab_type": "text"
      },
      "source": [
        "Combine the methodology for searching NYC congressional tweets that you developed in Part 2 with the 311 Service Request data that you have explored in Part 3 to address the question of whether congresspeople representing NYC are using social media as a platform to highlight these issues.\n",
        "\n",
        "This part of the assignment is purposefully open-ended as there are numerous ways to address the question. For whatever evidence that you provide, describe the assumptions and approximations as well as potential biases or missing perspectives that might impact your conclusions."
      ]
    },
    {
      "cell_type": "code",
      "metadata": {
        "id": "tAmNHfwcnDYy",
        "colab_type": "code",
        "outputId": "4844ee08-b37e-4579-d251-c79d4fa2c0bf",
        "colab": {
          "base_uri": "https://localhost:8080/",
          "height": 672
        }
      },
      "source": [
        "# Question is whether congresspeople representing NYC are using social media as a platform to highlight these issues\n",
        "\n",
        "# Bring the NYC congresspeople data\n",
        "drive.mount(\"/content/drive\")\n",
        "fname2 = \"drive/My Drive/dstep20/data/congress_tweets/nyc_congress_screen_names.csv\"\n",
        "cgr = pd.read_csv(fname2, sep=\",\")\n",
        "print(cgr)"
      ],
      "execution_count": 0,
      "outputs": [
        {
          "output_type": "stream",
          "text": [
            "Drive already mounted at /content/drive; to attempt to forcibly remount, call drive.mount(\"/content/drive\", force_remount=True).\n",
            "        screen_name                      name party\n",
            "0        SenSchumer             Chuck Schumer     D\n",
            "1      chuckschumer             Chuck Schumer     D\n",
            "2     SenGillibrand        Kirsten Gillibrand     D\n",
            "3      gillibrandny        Kirsten Gillibrand     D\n",
            "4      RepLeeZeldin                Lee Zeldin     R\n",
            "5         leezeldin                Lee Zeldin     R\n",
            "6       RepPeteKing                Peter King     R\n",
            "7      congpeteking                Peter King     R\n",
            "8       petekingcpg                Peter King     R\n",
            "9      RepTomSuozzi             Thomas Suozzi     D\n",
            "10       Tom_Suozzi             Thomas Suozzi     D\n",
            "11     KathleenRice             Kathleen Rice     D\n",
            "12  RepKathleenRice             Kathleen Rice     D\n",
            "13  RepGregoryMeeks             Gregory Meeks     D\n",
            "14     RepGraceMeng                Grace Meng     D\n",
            "15         Grace4NY                Grace Meng     D\n",
            "16   NydiaVelazquez           Nydia Velazquez     D\n",
            "17     ReElectNydia           Nydia Velazquez     D\n",
            "18      RepJeffries           Hakeem Jeffries     D\n",
            "19     TeamJeffries           Hakeem Jeffries     D\n",
            "20  RepYvetteClarke             Yvette Clarke     D\n",
            "21       VoteYvette             Yvette Clarke     D\n",
            "22      JerryNadler            Jerrold Nadler     D\n",
            "23   RepJerryNadler            Jerrold Nadler     D\n",
            "24       MaxRose4NY                  Max Rose     D\n",
            "25       RepMaxRose                  Max Rose     D\n",
            "26  CarolynBMaloney           Carolyn Maloney     D\n",
            "27       RepMaloney           Carolyn Maloney     D\n",
            "28     RepEspaillat         Adriano Espaillat     D\n",
            "29              AOC  Alexandria Ocasio-Cortez     D\n",
            "30           RepAOC  Alexandria Ocasio-Cortez     D\n",
            "31   RepJoseSerrano              Jose Serrano     D\n",
            "32  serranocongress              Jose Serrano     D\n",
            "33    RepEliotEngel               Eliot Engel     D\n"
          ],
          "name": "stdout"
        }
      ]
    },
    {
      "cell_type": "code",
      "metadata": {
        "id": "Dt4bFWWrpw6R",
        "colab_type": "code",
        "outputId": "0c4d198f-46bf-4a8a-c25c-9e44b2ac2b7c",
        "colab": {
          "base_uri": "https://localhost:8080/",
          "height": 395
        }
      },
      "source": [
        "# Compare Graphs\n",
        "\n",
        "ax1 = twt2.sort_values('tweet', ascending=False).reset_index().plot.bar(\"screen_name\", \"tweet\")\n",
        "xlab = ax1.set_xlabel(\"Screen Name\")\n",
        "ylab = ax1.set_ylabel(\"Total Number of Tweets\")\n",
        "ax1.set_title(\"The total number of tweets for each screen name in NYC\", loc=\"center\")\n"
      ],
      "execution_count": 0,
      "outputs": [
        {
          "output_type": "execute_result",
          "data": {
            "text/plain": [
              "Text(0.5, 1.0, 'The total number of tweets for each screen name in NYC')"
            ]
          },
          "metadata": {
            "tags": []
          },
          "execution_count": 104
        },
        {
          "output_type": "display_data",
          "data": {
            "image/png": "[encoded data removed]",
            "text/plain": [
              "<Figure size 432x288 with 1 Axes>"
            ]
          },
          "metadata": {
            "tags": []
          }
        }
      ]
    },
    {
      "cell_type": "code",
      "metadata": {
        "id": "roSjEFspqCEv",
        "colab_type": "code",
        "outputId": "6a6c492a-4523-4aca-f928-4b40746023ea",
        "colab": {
          "base_uri": "https://localhost:8080/",
          "height": 452
        }
      },
      "source": [
        "ax2 = nyc_311[\"complaint_type\"].value_counts().iloc[0:10].plot(kind = 'bar')\n",
        "xlab = ax2.set_xlabel(\"Complaint Types\")\n",
        "ylab = ax2.set_ylabel(\"Total Number\")\n",
        "ax2.set_title(\"The top 10 most common complaint types in the 2019 NYC 311 data\", loc=\"center\")"
      ],
      "execution_count": 0,
      "outputs": [
        {
          "output_type": "execute_result",
          "data": {
            "text/plain": [
              "Text(0.5, 1.0, 'The top 10 most common complaint types in the 2019 NYC 311 data')"
            ]
          },
          "metadata": {
            "tags": []
          },
          "execution_count": 103
        },
        {
          "output_type": "display_data",
          "data": {
            "image/png": "[encoded data removed]",
            "text/plain": [
              "<Figure size 432x288 with 1 Axes>"
            ]
          },
          "metadata": {
            "tags": []
          }
        }
      ]
    },
    {
      "cell_type": "code",
      "metadata": {
        "id": "T5B_ZR0zqdPK",
        "colab_type": "code",
        "outputId": "ca4141d5-8560-4405-99a5-8427e98c87ed",
        "colab": {
          "base_uri": "https://localhost:8080/",
          "height": 235
        }
      },
      "source": [
        "# According to the previous background research, \n",
        "# Feezell (2018) analyzed that exposed to political information through social media yields an agenda setting effect by raising participants’ perceived importance of certain policy issues. \n",
        "# Therefore, considering the social media effect, it is important to analyze whether the social media is measured by service requests\n",
        "\n",
        "# Assumption: Assume that the congresspeople are using social media by using some 'key words' in the 311 service requrests to raise residents' percieved importance of certain policy issues.\n",
        "\n",
        "nall = len(nyc_tw[\"text\"])\n",
        "noise = nyc_tw[\"text\"].str.contains(\"noise\").sum()\n",
        "resident = nyc_tw[\"text\"].str.contains(\"resident\").sum()\n",
        "parking = nyc_tw[\"text\"].str.contains(\"parking\").sum()\n",
        "drive = nyc_tw[\"text\"].str.contains(\"drive\").sum()\n",
        "street = nyc_tw[\"text\"].str.contains(\"street\").sum()\n",
        "vehicle = nyc_tw[\"text\"].str.contains(\"vehicle\").sum()\n",
        "abandoned = nyc_tw[\"text\"].str.contains(\"abandoned\").sum()\n",
        "derelict = nyc_tw[\"text\"].str.contains(\"derelict\").sum()\n",
        "emergency = nyc_tw[\"text\"].str.contains(\"emergency\").sum()\n",
        "police = nyc_tw[\"text\"].str.contains(\"police\").sum()\n",
        "homeless = nyc_tw[\"text\"].str.contains(\"homeless\").sum()\n",
        "camp = nyc_tw[\"text\"].str.contains(\"camp\").sum()\n",
        "\n",
        "\n",
        "print(\"The fraction of the NYC tweets contain the phrase 'noise': {0}\".format(noise/nall))\n",
        "print(\"The fraction of the NYC tweets contain the phrase 'resident': {0}\".format(noise/nall))\n",
        "print(\"The fraction of the NYC tweets contain the phrase 'parking': {0}\".format(parking/nall))\n",
        "print(\"The fraction of the NYC tweets contain the phrase 'drive': {0}\".format(drive/nall))\n",
        "print(\"The fraction of the NYC tweets contain the phrase 'street': {0}\".format(street/nall))\n",
        "print(\"The fraction of the NYC tweets contain the phrase 'vehicle': {0}\".format(vehicle/nall))\n",
        "print(\"The fraction of the NYC tweets contain the phrase 'abandoned': {0}\".format(abandoned/nall))\n",
        "print(\"The fraction of the NYC tweets contain the phrase 'derelict': {0}\".format(derelict/nall))\n",
        "print(\"The fraction of the NYC tweets contain the phrase 'emergency': {0}\".format(emergency/nall))\n",
        "print(\"The fraction of the NYC tweets contain the phrase 'police': {0}\".format(police/nall))\n",
        "print(\"The fraction of the NYC tweets contain the phrase 'homeless': {0}\".format(homeless/nall))\n",
        "print(\"The fraction of the NYC tweets contain the phrase 'camp': {0}\".format(camp/nall))"
      ],
      "execution_count": 0,
      "outputs": [
        {
          "output_type": "stream",
          "text": [
            "The fraction of the NYC tweets contain the phrase 'noise': 0.001544231193470108\n",
            "The fraction of the NYC tweets contain the phrase 'resident': 0.001544231193470108\n",
            "The fraction of the NYC tweets contain the phrase 'parking': 0.0005672686016828969\n",
            "The fraction of the NYC tweets contain the phrase 'drive': 0.006082380006933283\n",
            "The fraction of the NYC tweets contain the phrase 'street': 0.005861775550723268\n",
            "The fraction of the NYC tweets contain the phrase 'vehicle': 0.0010084775141029278\n",
            "The fraction of the NYC tweets contain the phrase 'abandoned': 0.0007248432132614793\n",
            "The fraction of the NYC tweets contain the phrase 'derelict': 0.00018908953389429895\n",
            "The fraction of the NYC tweets contain the phrase 'emergency': 0.009139327471557783\n",
            "The fraction of the NYC tweets contain the phrase 'police': 0.004853298036620339\n",
            "The fraction of the NYC tweets contain the phrase 'homeless': 0.0035611862216759636\n",
            "The fraction of the NYC tweets contain the phrase 'camp': 0.03510762345970817\n"
          ],
          "name": "stdout"
        }
      ]
    },
    {
      "cell_type": "markdown",
      "metadata": {
        "id": "URv388SAu2JS",
        "colab_type": "text"
      },
      "source": [
        "**Answer:**\n",
        "\n",
        "According to the previous background research, Feezell (2018) analyzed that exposed to political information through social media yields an agenda setting effect by raising participants’ perceived importance of certain policy issues. \n",
        "Therefore, considering the social media effect, it is important to analyze whether the social media is measured by service requests\n",
        "\n",
        "**Assumption:**\n",
        "I assume that the congresspeople are using social media by using some 'key words' in the 311 service requrests to raise residents' percieved importance of certain policy issues.\n",
        "\n",
        "**Approximation:**\n",
        "As a result, the fraction of the NYC tweets that contain the top 10 key words are under 0.05. It means that it the result is less relative that congresspeople representing NYC are using social media as a plotfrom to highlight these issues.\n",
        "\n",
        "**Potential biases/Missing perspectives:**\n",
        "Although, there are some potential biases or missing perspectives in that the data is only limited to Twitter, which means it does not include Facebook or other social media. Also, the congresspeople might use the other or indirect words to promote their policies. Therefore, there should be more related data to evaluate whether the NYC congresspeople are using social media as a plotform to highlight these issues.\n",
        "\n",
        "\n"
      ]
    }
  ]
}